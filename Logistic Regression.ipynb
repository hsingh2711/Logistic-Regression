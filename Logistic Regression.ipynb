{
 "cells": [
  {
   "cell_type": "code",
   "execution_count": 1,
   "metadata": {},
   "outputs": [
    {
     "data": {
      "text/plain": [
       "<matplotlib.collections.PathCollection at 0x185ffcd0390>"
      ]
     },
     "execution_count": 1,
     "metadata": {},
     "output_type": "execute_result"
    },
    {
     "data": {
      "image/png": "[encoded data removed]",
      "text/plain": [
       "<Figure size 432x288 with 1 Axes>"
      ]
     },
     "metadata": {
      "needs_background": "light"
     },
     "output_type": "display_data"
    }
   ],
   "source": [
    "import numpy as np\n",
    "from sklearn.model_selection import train_test_split\n",
    "import matplotlib.pyplot as plt\n",
    "%matplotlib inline\n",
    "np.random.seed(2019)\n",
    "data = np.random.randn(200,2)\n",
    "data[:100,0]=data[:100,0]*4+10\n",
    "data[:100,1]=data[100:,1]*4+5\n",
    "\n",
    "data[100:,0]=data[100:,0]*4+18\n",
    "data[100:,1]=data[100:,1]*4+13\n",
    "y=np.append(np.ones(100),np.zeros(100))\n",
    "\n",
    "plt.scatter(data[:100,0], data[:100,1],color=\"red\",marker='o',label='class1')\n",
    "plt.scatter(data[100:,0], data[100:,1],color='blue',marker='o',label='class2')"
   ]
  },
  {
   "cell_type": "code",
   "execution_count": 2,
   "metadata": {},
   "outputs": [],
   "source": [
    "X_train, X_test, y_train , y_test = train_test_split( data , y , test_size=0.25,stratify=y)\n"
   ]
  },
  {
   "cell_type": "code",
   "execution_count": 3,
   "metadata": {},
   "outputs": [],
   "source": [
    "def sigmoid(scores):\n",
    "    return 1 / (1 + np.exp(-scores))"
   ]
  },
  {
   "cell_type": "code",
   "execution_count": 4,
   "metadata": {},
   "outputs": [],
   "source": [
    "def cost_function(features, target, weights):\n",
    "    scores = np.dot(features,weight)\n",
    "    cf = np.sum( -target*scores + np.log(1 + np.exp(scores)) )\n",
    "    return cf\n",
    "\n"
   ]
  },
  {
   "cell_type": "code",
   "execution_count": 7,
   "metadata": {},
   "outputs": [],
   "source": [
    "def logistic_regression(features, target, num_steps, learning_rate,add_intercept=\"False\"):\n",
    "    if add_intercept:\n",
    "        intercept = np.ones((features.shape[0],1))\n",
    "        features = np.hstack((intercept, features))\n",
    "    ypred=[]\n",
    "    weights=np.zeros(features.shape[1])\n",
    "    \n",
    "    for i in range(num_steps):\n",
    "        scores = np.dot(features,weights)\n",
    "        predictions = sigmoid(scores)\n",
    "        gradient = np.dot(features.T,predictions-target)\n",
    "        weights =weights- ((learning_rate/features.shape[0]) * gradient)\n",
    "        \n",
    "    score_final = np.dot(features,weights)\n",
    "    score_final_sigmoid=sigmoid(score_final)\n",
    "    ypred=np.round(score_final_sigmoid)\n",
    "    \n",
    "    return ypred"
   ]
  },
  {
   "cell_type": "code",
   "execution_count": 8,
   "metadata": {},
   "outputs": [
    {
     "name": "stdout",
     "output_type": "stream",
     "text": [
      "0.96\n"
     ]
    }
   ],
   "source": [
    "\n",
    "i=logistic_regression(X_test,y_test,10000,0.01,add_intercept=\"True\")\n",
    "print(np.sum((i-y_test)==0)/len(i))"
   ]
  },
  {
   "cell_type": "code",
   "execution_count": null,
   "metadata": {},
   "outputs": [],
   "source": []
  },
  {
   "cell_type": "code",
   "execution_count": null,
   "metadata": {},
   "outputs": [],
   "source": []
  }
 ],
 "metadata": {
  "kernelspec": {
   "display_name": "Python 3",
   "language": "python",
   "name": "python3"
  },
  "language_info": {
   "codemirror_mode": {
    "name": "ipython",
    "version": 3
   },
   "file_extension": ".py",
   "mimetype": "text/x-python",
   "name": "python",
   "nbconvert_exporter": "python",
   "pygments_lexer": "ipython3",
   "version": "3.7.1"
  }
 },
 "nbformat": 4,
 "nbformat_minor": 2
}
